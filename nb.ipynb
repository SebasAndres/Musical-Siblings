{
 "cells": [
  {
   "cell_type": "code",
   "execution_count": 1,
   "metadata": {},
   "outputs": [
    {
     "name": "stderr",
     "output_type": "stream",
     "text": [
      "c:\\Users\\sebas\\Proyectos\\MusicalMatch\\venv\\lib\\site-packages\\tqdm\\auto.py:21: TqdmWarning: IProgress not found. Please update jupyter and ipywidgets. See https://ipywidgets.readthedocs.io/en/stable/user_install.html\n",
      "  from .autonotebook import tqdm as notebook_tqdm\n",
      "C:\\Users\\sebas\\AppData\\Local\\Temp\\ipykernel_29748\\1050907235.py:18: DeprecationWarning: \n",
      "Pyarrow will become a required dependency of pandas in the next major release of pandas (pandas 3.0),\n",
      "(to allow more performant data types, such as the Arrow string type, and better interoperability with other libraries)\n",
      "but was not found to be installed on your system.\n",
      "If this would cause problems for you,\n",
      "please provide us feedback at https://github.com/pandas-dev/pandas/issues/54466\n",
      "        \n",
      "  import pandas as pd\n"
     ]
    }
   ],
   "source": [
    "import spotipy\n",
    "from spotipy.oauth2 import SpotifyClientCredentials\n",
    "import spotipy.util as util\n",
    "\n",
    "from scipy import sparse\n",
    "from implicit.als import AlternatingLeastSquares\n",
    "\n",
    "from sklearn.cluster import KMeans\n",
    "from sklearn.manifold import TSNE\n",
    "from sklearn.preprocessing import StandardScaler\n",
    "from sklearn.pipeline import Pipeline\n",
    "\n",
    "from dotenv import load_dotenv\n",
    "load_dotenv()\n",
    "import os\n",
    "\n",
    "import numpy as np\n",
    "import pandas as pd\n",
    "import matplotlib.pyplot as plt\n",
    "import plotly.express as px \n",
    "\n",
    "from models.track import Track\n",
    "from models.user import User\n",
    "from models.elasticLink import ElasticLink"
   ]
  },
  {
   "cell_type": "code",
   "execution_count": 2,
   "metadata": {},
   "outputs": [],
   "source": [
    "# load env variables\n",
    "load_dotenv()\n",
    "elastic_endpoint = os.getenv(\"ELASTIC_HOST\")\n",
    "elastic_api_key = os.getenv(\"API_KEY\")\n",
    "spotify_client_id = os.getenv(\"SPOTIFY_CLIENT_ID\")\n",
    "spotify_client_secret = os.getenv(\"SPOTIFY_CLIENT_SECRET\")\n",
    "\n",
    "# elasticsearch link \n",
    "es = ElasticLink(elastic_endpoint, elastic_api_key)\n",
    "\n",
    "# spotify\n",
    "os.environ[\"SPOTIPY_CLIENT_ID\"] = spotify_client_id\n",
    "os.environ[\"SPOTIPY_CLIENT_SECRET\"] = spotify_client_secret\n",
    "os.environ['SPOTIPY_REDIRECT_URI']='http://localhost:8888/callback'\n",
    "client_credentials_manager = SpotifyClientCredentials(client_id=spotify_client_id, client_secret=spotify_client_secret) \n",
    "sp = spotipy.Spotify(client_credentials_manager=client_credentials_manager)\n",
    "\n",
    "# needed premisions for each user\n",
    "scope = 'user-top-read user-read-recently-played playlist-read-private'"
   ]
  },
  {
   "cell_type": "code",
   "execution_count": 3,
   "metadata": {},
   "outputs": [],
   "source": [
    "u = User('test')\n",
    "top = u.getTopTracks(es, scope)"
   ]
  },
  {
   "cell_type": "code",
   "execution_count": 4,
   "metadata": {},
   "outputs": [
    {
     "data": {
      "text/plain": [
       "array([ 0.68646667,  0.73523333,  4.4       , -6.0357    ,  0.5       ,\n",
       "        0.09750333,  0.13819057,  0.05981459,  0.17771   ,  0.46110667,\n",
       "        1.27169133,  2.11128433,  3.96666667])"
      ]
     },
     "execution_count": 4,
     "metadata": {},
     "output_type": "execute_result"
    }
   ],
   "source": [
    "u.userMetaVector"
   ]
  },
  {
   "cell_type": "markdown",
   "metadata": {},
   "source": [
    "Simulo distintos usuarios"
   ]
  },
  {
   "cell_type": "code",
   "execution_count": 40,
   "metadata": {},
   "outputs": [],
   "source": [
    "tsne_pipeline = Pipeline([('scaler', StandardScaler(with_mean=False)),\n",
    "                          ('tsne', TSNE(n_components=2, random_state=0, perplexity=10, init='random'))])\n",
    "track_embedding = tsne_pipeline.fit_transform(X)\n",
    "\n",
    "projection = pd.DataFrame(columns=['x', 'y'], data=track_embedding)\n",
    "projection['name'] = [track.name for track in total_tracks]\n",
    "projection['type'] = ['songs' for t in range(len(total_tracks)-len(test_users))] + ['test'] * len(test_users)\n",
    "\n",
    "fig = px.scatter(projection, x='x', y='y', color='type', hover_data=['x', 'y', 'name', 'type'])\n",
    "fig.update_layout(title='T-SNE projection of the Top Tracks')\n",
    "fig.show()"
   ]
  }
 ],
 "metadata": {
  "kernelspec": {
   "display_name": "venv",
   "language": "python",
   "name": "python3"
  },
  "language_info": {
   "codemirror_mode": {
    "name": "ipython",
    "version": 3
   },
   "file_extension": ".py",
   "mimetype": "text/x-python",
   "name": "python",
   "nbconvert_exporter": "python",
   "pygments_lexer": "ipython3",
   "version": "3.10.11"
  }
 },
 "nbformat": 4,
 "nbformat_minor": 2
}
