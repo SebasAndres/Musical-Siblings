{
 "cells": [
  {
   "cell_type": "markdown",
   "metadata": {},
   "source": [
    "## Usuarios con regiones de preferencia\n",
    "\n",
    "Por cada item visto se amplia la región de preferencia del usuario con una nueva región centrada desde la metadata del contenido, con un radio inversamente proporcional al orden de tracks mas escuchados. \n",
    "\n",
    "$$R_\\mu = \\cup_{i=0}^N B|_{f(i)}(\\mu\\text{.top[i].vector}) \\subset \\Re^M$$\n",
    "\n",
    "- N: Longitud del top del usuario.\n",
    "- M: Numero de Audio Features.\n",
    "- $f: \\Re \\rightarrow \\Re$: Funcion que determina el radio de cada bola, con decaimiento (decreciente) a optimizar.\n",
    "\n",
    "Sea $A(\\mu, \\lambda)$ la afinidad entre dos usuarios $\\mu$ y $\\lambda$, sabemos que está directamente relacionada con el valor del área de la intersección de sus regiones.\n",
    "\n",
    "$$A(\\mu, \\lambda) \\sim \\text{Area}(R_\\mu \\cap R_\\lambda)$$\n",
    "\n",
    "#### Obtencion de usuarios similares...\n",
    "\n",
    "- Intento 1:  Una opcion puede ser hacer $m<N$ queries al indice de tracks de Elastic, con el primer subconjunto de $m$ elementos de los tracks tops del usuario, pidiendo que los elementos devueltos esten a una distancia menor del radio correspondiente a cada track.  \n",
    " Luego, todos los tracks devueltos forman parte de la region de ese usuario $R_\\mu$, entonces me fijo en el indice de usuarios qué usuarios tienen esos mismos elementos.\n",
    " Como desventaja, esto haria la busqueda una operacion muy costosa, ya que se deben hacer $m+2$ consultas a Elasticsearch."
   ]
  },
  {
   "cell_type": "code",
   "execution_count": 1,
   "metadata": {},
   "outputs": [
    {
     "name": "stderr",
     "output_type": "stream",
     "text": [
      "C:\\Users\\sebas\\AppData\\Local\\Temp\\ipykernel_24272\\1101241361.py:7: DeprecationWarning: \n",
      "Pyarrow will become a required dependency of pandas in the next major release of pandas (pandas 3.0),\n",
      "(to allow more performant data types, such as the Arrow string type, and better interoperability with other libraries)\n",
      "but was not found to be installed on your system.\n",
      "If this would cause problems for you,\n",
      "please provide us feedback at https://github.com/pandas-dev/pandas/issues/54466\n",
      "        \n",
      "  import pandas as pd\n"
     ]
    }
   ],
   "source": [
    "import os\n",
    "from dotenv import load_dotenv\n",
    "import spotipy\n",
    "from spotipy.oauth2 import SpotifyClientCredentials\n",
    "\n",
    "import numpy as np\n",
    "import pandas as pd\n",
    "import matplotlib.pyplot as plt\n",
    "import plotly.express as px \n",
    "\n",
    "from sklearn.cluster import KMeans\n",
    "from sklearn.manifold import TSNE\n",
    "from sklearn.preprocessing import StandardScaler\n",
    "from sklearn.pipeline import Pipeline\n",
    "\n",
    "import sys\n",
    "os.chdir(\"..\")\n",
    "os.chdir(\"..\")\n",
    "sys.path.insert(0, os.getcwd())\n",
    "from models.track import Track\n",
    "from models.elasticLink import ElasticLink\n",
    "from models.user import User"
   ]
  },
  {
   "cell_type": "code",
   "execution_count": 2,
   "metadata": {},
   "outputs": [],
   "source": [
    "# load .env file\n",
    "load_dotenv()\n",
    "elastic_endpoint = os.getenv(\"ELASTIC_HOST\")\n",
    "elastic_api_key = os.getenv(\"API_KEY\")\n",
    "spotify_client_id = os.getenv(\"SPOTIFY_CLIENT_ID\")\n",
    "spotify_client_secret = os.getenv(\"SPOTIFY_CLIENT_SECRET\")\n",
    "\n",
    "# elasticsearch link \n",
    "es = ElasticLink(elastic_endpoint, elastic_api_key)\n",
    "\n",
    "# spotify\n",
    "os.environ[\"SPOTIPY_CLIENT_ID\"] = spotify_client_id\n",
    "os.environ[\"SPOTIPY_CLIENT_SECRET\"] = spotify_client_secret\n",
    "os.environ['SPOTIPY_REDIRECT_URI']='http://localhost:8888/callback'\n",
    "client_credentials_manager = SpotifyClientCredentials(client_id=spotify_client_id, client_secret=spotify_client_secret) \n",
    "sp = spotipy.Spotify(client_credentials_manager=client_credentials_manager)"
   ]
  },
  {
   "cell_type": "markdown",
   "metadata": {},
   "source": [
    "### Carga de datos de prueba"
   ]
  },
  {
   "cell_type": "code",
   "execution_count": 6,
   "metadata": {},
   "outputs": [],
   "source": [
    "from createTestUsers import getTestUsers\n",
    "testUsers, allTracks, songsByArtist = getTestUsers()\n",
    "\n",
    "# los agrego a la base de datos\n",
    "for user in testUsers:\n",
    "    user.getUserVectorFromListened()\n",
    "    es.insertUser(user)"
   ]
  },
  {
   "cell_type": "markdown",
   "metadata": {},
   "source": [
    "### Uso"
   ]
  },
  {
   "cell_type": "code",
   "execution_count": 56,
   "metadata": {},
   "outputs": [],
   "source": [
    "def get_documents_within_radius(index, vector, radius):\n",
    "    query = {\n",
    "        \"query\": {\n",
    "            \"function_score\": {\n",
    "                \"query\": {\n",
    "                    \"bool\": {\n",
    "                        \"must\": {\n",
    "                            \"match_all\": {},\n",
    "                        }\n",
    "                    }\n",
    "                },\n",
    "                \"functions\": [\n",
    "                    {\n",
    "                        \"script_score\": {\n",
    "                            \"script\": {\n",
    "                                \"source\": \"l2norm(params.queryVector, 'metaVector') > params.radius ? 0 : 1 / (l1norm(params.queryVector, 'metaVector') + 1)\",\n",
    "                                \"params\": {\n",
    "                                    \"queryVector\": vector,\n",
    "                                    \"radius\": radius\n",
    "                                }\n",
    "                            }\n",
    "                        }\n",
    "                    }\n",
    "                ]                                       \n",
    "            }\n",
    "        }\n",
    "    }\n",
    "    resp = es.client.search(index=index, body=query)\n",
    "    return resp"
   ]
  },
  {
   "cell_type": "code",
   "execution_count": 57,
   "metadata": {},
   "outputs": [],
   "source": [
    "r = get_documents_within_radius(\"users-metadata\", allTracks[0].getMetadataVector(), 4)"
   ]
  },
  {
   "cell_type": "code",
   "execution_count": 58,
   "metadata": {},
   "outputs": [],
   "source": [
    "def getSimilarUsersByRegion(user, m=2, f=lambda x: 10/(x+1)):\n",
    "    # Check if m < N\n",
    "    if len(user.listened) < m:\n",
    "        raise Exception(\"User has not listened enough tracks\")\n",
    "    \n",
    "    # Get all tracks in the user region\n",
    "    regionTrackIds = set() \n",
    "    i = 0\n",
    "    while i < m:\n",
    "        track = user.listened[i]\n",
    "        radiusTracks = get_documents_within_radius(\"songs-metadata\", track.getMetadataVector(), f(i))\n",
    "        for r in radiusTracks['hits']['hits']:\n",
    "            if r['_score'] > 0:\n",
    "                regionTrackIds.add(r['_source']['spotify_id'])\n",
    "        i+=1 \n",
    "\n",
    "    # Get all users that have listened to the tracks in the region\n",
    "    query = {\n",
    "        \"size\": 5,\n",
    "        \"query\": {\n",
    "            \"function_score\": {\n",
    "                \"query\": {\n",
    "                    \"bool\": {\n",
    "                        \"must\": {\n",
    "                            \"match_all\": {},\n",
    "                        },\n",
    "                        \"must_not\": [\n",
    "                            {\n",
    "                                \"term\": {\n",
    "                                    \"spotify_user_id\": user.spotify_id\n",
    "                                }\n",
    "                            }\n",
    "                        ],\n",
    "                        \"should\": [\n",
    "                            {\n",
    "                                \"terms\": {\n",
    "                                    \"listened\": list(regionTrackIds),\n",
    "                                    \"boost\": 300\n",
    "                                }\n",
    "                            },\n",
    "                            {\n",
    "                                \"terms\": {\n",
    "                                    \"artists\": list(user.artists),\n",
    "                                    \"boost\": 200\n",
    "                                }\n",
    "                            }\n",
    "                        ]\n",
    "                    }\n",
    "                },\n",
    "            }\n",
    "        }\n",
    "    }\n",
    "    resp = es.client.search(index=\"users-metadata\", body=query)\n",
    "    return resp"
   ]
  },
  {
   "cell_type": "code",
   "execution_count": 59,
   "metadata": {},
   "outputs": [
    {
     "name": "stdout",
     "output_type": "stream",
     "text": [
      "Based on --> Duki Fan\n",
      "--> Taylor Swift and Emilia Fan ['TINI', 'Emilia', 'Taylor Swift', 'Nicki Nicole', 'WOS', 'Duki']\n",
      "--> Taylor Swift Fan ['Taylor Swift']\n",
      "--> The 1975 Fan ['The 1975']\n",
      "--> House fan ['SIDEPIECE', 'Diplo', 'Sleepy Tom']\n",
      "--> Emilia Fan ['TINI', 'Emilia']\n"
     ]
    }
   ],
   "source": [
    "def testRegionRecm(u):\n",
    "    print(\"Based on -->\", u.spotify_id)\n",
    "    resp = getSimilarUsersByRegion(u)['hits']['hits']\n",
    "    for r in resp:\n",
    "        print(\"-->\", r['_source']['spotify_user_id'], r['_source']['artists'])\n",
    "        \n",
    "testRegionRecm(testUsers[1])"
   ]
  },
  {
   "cell_type": "code",
   "execution_count": null,
   "metadata": {},
   "outputs": [],
   "source": []
  }
 ],
 "metadata": {
  "kernelspec": {
   "display_name": "venv",
   "language": "python",
   "name": "python3"
  },
  "language_info": {
   "codemirror_mode": {
    "name": "ipython",
    "version": 3
   },
   "file_extension": ".py",
   "mimetype": "text/x-python",
   "name": "python",
   "nbconvert_exporter": "python",
   "pygments_lexer": "ipython3",
   "version": "3.10.11"
  }
 },
 "nbformat": 4,
 "nbformat_minor": 2
}
