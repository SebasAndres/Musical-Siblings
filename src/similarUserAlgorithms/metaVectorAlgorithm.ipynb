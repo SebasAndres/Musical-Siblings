{
 "cells": [
  {
   "cell_type": "markdown",
   "metadata": {},
   "source": [
    "## Usuarios con vectores de Metadata\n",
    "\n",
    "Utilizamos la similitud por coseno entre los vectores de metadata asignados a cada usuario. Estos vectores son la media de todos los vectores de Audio Features de las canciones top escuchadas por el usuario. Como desventaja, este valor no es muy representativo si el usuario tiene gustos variados.\n",
    "\n",
    "$$U.meta = \\frac{1}{N} \\sum_{s \\in U.top} s$$\n",
    "\n",
    "- $U.meta, s \\in \\Re^M$"
   ]
  },
  {
   "cell_type": "code",
   "execution_count": 1,
   "metadata": {},
   "outputs": [
    {
     "name": "stderr",
     "output_type": "stream",
     "text": [
      "C:\\Users\\sebas\\AppData\\Local\\Temp\\ipykernel_27512\\1101241361.py:7: DeprecationWarning: \n",
      "Pyarrow will become a required dependency of pandas in the next major release of pandas (pandas 3.0),\n",
      "(to allow more performant data types, such as the Arrow string type, and better interoperability with other libraries)\n",
      "but was not found to be installed on your system.\n",
      "If this would cause problems for you,\n",
      "please provide us feedback at https://github.com/pandas-dev/pandas/issues/54466\n",
      "        \n",
      "  import pandas as pd\n"
     ]
    }
   ],
   "source": [
    "import os\n",
    "from dotenv import load_dotenv\n",
    "import spotipy\n",
    "from spotipy.oauth2 import SpotifyClientCredentials\n",
    "\n",
    "import numpy as np\n",
    "import pandas as pd\n",
    "import matplotlib.pyplot as plt\n",
    "import plotly.express as px \n",
    "\n",
    "from sklearn.cluster import KMeans\n",
    "from sklearn.manifold import TSNE\n",
    "from sklearn.preprocessing import StandardScaler\n",
    "from sklearn.pipeline import Pipeline\n",
    "\n",
    "import sys\n",
    "os.chdir(\"..\")\n",
    "os.chdir(\"..\")\n",
    "sys.path.insert(0, os.getcwd())\n",
    "from models.track import Track\n",
    "from models.elasticLink import ElasticLink\n",
    "from models.user import User"
   ]
  },
  {
   "cell_type": "code",
   "execution_count": 2,
   "metadata": {},
   "outputs": [],
   "source": [
    "# load .env file\n",
    "load_dotenv()\n",
    "elastic_endpoint = os.getenv(\"ELASTIC_HOST\")\n",
    "elastic_api_key = os.getenv(\"API_KEY\")\n",
    "spotify_client_id = os.getenv(\"SPOTIFY_CLIENT_ID\")\n",
    "spotify_client_secret = os.getenv(\"SPOTIFY_CLIENT_SECRET\")\n",
    "\n",
    "# elasticsearch link \n",
    "es = ElasticLink(elastic_endpoint, elastic_api_key)\n",
    "\n",
    "# spotify\n",
    "os.environ[\"SPOTIPY_CLIENT_ID\"] = spotify_client_id\n",
    "os.environ[\"SPOTIPY_CLIENT_SECRET\"] = spotify_client_secret\n",
    "os.environ['SPOTIPY_REDIRECT_URI']='http://localhost:8888/callback'\n",
    "client_credentials_manager = SpotifyClientCredentials(client_id=spotify_client_id, client_secret=spotify_client_secret) \n",
    "sp = spotipy.Spotify(client_credentials_manager=client_credentials_manager)"
   ]
  },
  {
   "cell_type": "markdown",
   "metadata": {},
   "source": [
    "## Estructuras de prueba"
   ]
  },
  {
   "cell_type": "code",
   "execution_count": 4,
   "metadata": {},
   "outputs": [],
   "source": [
    "from createTestUsers import getTestUsers\n",
    "testUsers, allTracks, songsByArtist = getTestUsers()\n",
    "\n",
    "# los agrego a la base de datos\n",
    "for user in testUsers:\n",
    "    user.getUserVectorFromListened()\n",
    "    es.insertUser(user)"
   ]
  },
  {
   "cell_type": "markdown",
   "metadata": {},
   "source": [
    "## Uso\n",
    "\n",
    "Para poder visualizar los tracks, usamos TSNe que reduce la dimensionalidad de los metaVectors."
   ]
  },
  {
   "cell_type": "code",
   "execution_count": null,
   "metadata": {},
   "outputs": [
    {
     "name": "stderr",
     "output_type": "stream",
     "text": [
      "c:\\Users\\sebas\\Proyectos\\MusicalMatch\\venv\\lib\\site-packages\\plotly\\express\\_core.py:2065: FutureWarning: When grouping with a length-1 list-like, you will need to pass a length-1 tuple to get_group in a future version of pandas. Pass `(name,)` instead of `name` to silence this warning.\n",
      "  sf: grouped.get_group(s if len(s) > 1 else s[0])\n"
     ]
    },
    {
     "data": {
      "application/vnd.plotly.v1+json": {
       "config": {
        "plotlyServerURL": "https://plot.ly"
       },
       "data": [
        {
         "customdata": [
          [
           "...Ready For It?",
           "Taylor Swift"
          ],
          [
           "All Too Well (10 Minute Version) (Taylor's Version) (From The Vault)",
           "Taylor Swift"
          ],
          [
           "Now That We Don't Talk (Taylor's Version) (From The Vault)",
           "Taylor Swift"
          ],
          [
           "august",
           "Taylor Swift"
          ],
          [
           "Si Me Sobrara el Tiempo",
           "Duki"
          ],
          [
           "Malbec",
           "Duki"
          ],
          [
           "Getaway Car",
           "Taylor Swift"
          ],
          [
           "Karma",
           "Taylor Swift"
          ],
          [
           "Lover",
           "Taylor Swift"
          ],
          [
           "Is It Over Now? (Taylor's Version) (From The Vault)",
           "Taylor Swift"
          ],
          [
           "CSIpher (audio latino)",
           "Duki"
          ],
          [
           "GIVENCHY",
           "Duki"
          ],
          [
           "Hello Cotto",
           "Duki"
          ],
          [
           "Antes de Perderte",
           "Duki"
          ],
          [
           "Remember Me",
           "Duki"
          ],
          [
           "01 dE ENEro",
           "Duki"
          ],
          [
           "She Don't Give a Fo",
           "Duki"
          ],
          [
           "Rockstar",
           "Duki"
          ],
          [
           "Say Don't Go (Taylor's Version) (From The Vault)",
           "Taylor Swift"
          ],
          [
           "Heartbroken (feat. Jessie Murph & Polo G)",
           "Diplo"
          ],
          [
           "It's Not Living (If It's Not With You)",
           "The 1975"
          ],
          [
           "I'm In Love With You",
           "The 1975"
          ],
          [
           "Happiness",
           "The 1975"
          ],
          [
           "Girls",
           "The 1975"
          ],
          [
           "If You’re Too Shy (Let Me Know)",
           "The 1975"
          ],
          [
           "I Always Wanna Die (Sometimes)",
           "The 1975"
          ],
          [
           "The 1975",
           "The 1975"
          ],
          [
           "Oh Caroline",
           "The 1975"
          ],
          [
           "Robbers",
           "The 1975"
          ],
          [
           "La_Original.mp3",
           "Emilia"
          ],
          [
           "No_Se_Ve.mp3",
           "Emilia"
          ],
          [
           "como si no importara",
           "Emilia"
          ],
          [
           "Jagger.mp3",
           "Emilia"
          ],
          [
           "GTA.mp3",
           "Emilia"
          ],
          [
           "Jagger.mp3",
           "Emilia"
          ],
          [
           "IConic.mp3",
           "Emilia"
          ],
          [
           "como si no importara",
           "Emilia"
          ],
          [
           "Facts.mp3",
           "Emilia"
          ],
          [
           "Stay High - Zerb Remix",
           "Diplo"
          ],
          [
           "Welcome to the Party (with French Montana & Lil Pump, feat. Zhavia Ward) - from Deadpool 2",
           "Diplo"
          ],
          [
           "Fine Day Anthem",
           "Skrillex"
          ],
          [
           "Heartbroken - Jessie Version",
           "Diplo"
          ],
          [
           "Wish",
           "Diplo"
          ],
          [
           "Stay High",
           "Diplo"
          ],
          [
           "On My Mind",
           "Diplo"
          ],
          [
           "Be Right There",
           "Diplo"
          ],
          [
           "On My Mind",
           "Diplo"
          ],
          [
           "Leave Me Like This",
           "Skrillex"
          ],
          [
           "Rumble",
           "Skrillex"
          ],
          [
           "Purple Lamborghini (with Rick Ross)",
           "Skrillex"
          ],
          [
           "Don’t Go (with Justin Bieber & Don Toliver)",
           "Skrillex"
          ],
          [
           "OKUPA",
           "WOS"
          ],
          [
           "Would You Ever",
           "Skrillex"
          ],
          [
           "Rumble",
           "Skrillex"
          ],
          [
           "ANDRÓMEDA",
           "WOS"
          ],
          [
           "Way Back",
           "Skrillex"
          ],
          [
           "Summit (feat. Ellie Goulding)",
           "Skrillex"
          ],
          [
           "FRESCO",
           "WOS"
          ],
          [
           "CANGURO",
           "WOS"
          ],
          [
           "Box Fan For Sleep",
           "WOS Project"
          ],
          [
           "DESCARTABLE",
           "WOS"
          ],
          [
           "MORFEO",
           "WOS"
          ],
          [
           "MELÓN VINO",
           "WOS"
          ],
          [
           "CAMBIANDO LA PIEL",
           "WOS"
          ],
          [
           "CULPA",
           "WOS"
          ],
          [
           "ALMA DINAMITA",
           "WOS"
          ],
          [
           "CONTANDO OVEJAS",
           "WOS"
          ],
          [
           "¿Y pa la Wacha Loca? (con Salastkbron) - Remix",
           "Gusty dj"
          ],
          [
           "Gusty DJ | Ecko - Session en el Barrio #7",
           "Gusty dj"
          ],
          [
           "GUSTY DJ I Alejo Isakk Session en el Barrio #5",
           "Gusty dj"
          ],
          [
           "Gusty Dj | Jordan23 - Session en el Barrio #9",
           "Gusty dj"
          ],
          [
           "PURPURA",
           "WOS"
          ],
          [
           "N***a Who Dat?",
           "Woss Ness"
          ],
          [
           "CANGURO",
           "WOS"
          ],
          [
           "TERRAZA",
           "WOS"
          ],
          [
           "MIRÁ MAMÁ",
           "WOS"
          ],
          [
           "Perreo Adictivo #1 - Remix",
           "Gusty dj"
          ],
          [
           "Session en el Barrio #1",
           "Gusty dj"
          ],
          [
           "Boy With Luv (feat. Halsey)",
           "BTS"
          ],
          [
           "FAKE LOVE",
           "BTS"
          ],
          [
           "Session en el Barrio #3",
           "Gusty dj"
          ],
          [
           "Mega 1: Bad Bunny",
           "Gusty dj"
          ],
          [
           "TOMA 4 set rkt",
           "Gusty dj"
          ],
          [
           "el numero uno se fue con 2 rkt",
           "Gusty dj"
          ],
          [
           "Dynamite",
           "BTS"
          ],
          [
           "CÓMO CHILLA ELLA",
           "YSY A"
          ],
          [
           "24/7 6.5",
           "YSY A"
          ],
          [
           "NO DA MÁS",
           "YSY A"
          ],
          [
           "Serendipity - Full Length Edition",
           "BTS"
          ],
          [
           "Permission to Dance",
           "BTS"
          ],
          [
           "dimple",
           "BTS"
          ],
          [
           "Just One Day",
           "BTS"
          ],
          [
           "Euphoria",
           "BTS"
          ],
          [
           "HOME",
           "BTS"
          ],
          [
           "A POR TODO",
           "YSY A"
          ],
          [
           "SONIDO DEL AÑO",
           "YSY A"
          ],
          [
           "El Amanecer",
           "YSY A"
          ],
          [
           "ASESINO",
           "YSY A"
          ],
          [
           "CUÁNTO VALE HACER EL AMOR?",
           "YSY A"
          ],
          [
           "NO DA MÁS",
           "YSY A"
          ]
         ],
         "hovertemplate": "color=blue<br>x=%{x}<br>y=%{y}<br>name=%{customdata[0]}<br>artist=%{customdata[1]}<extra></extra>",
         "legendgroup": "blue",
         "marker": {
          "color": "#636efa",
          "symbol": "circle"
         },
         "mode": "markers",
         "name": "blue",
         "orientation": "v",
         "showlegend": true,
         "type": "scatter",
         "x": [
          31.05017852783203,
          4.177171230316162,
          9.482583999633789,
          2.089418411254883,
          1.3158730268478394,
          10.232579231262207,
          32.640037536621094,
          9.080684661865234,
          1.9054235219955444,
          8.79837417602539,
          17.42765235900879,
          -19.741374969482422,
          2.409714698791504,
          15.673672676086426,
          26.052587509155273,
          5.1178975105285645,
          18.931873321533203,
          -2.0778017044067383,
          9.123189926147461,
          24.263282775878906,
          14.892969131469727,
          14.59706974029541,
          -5.617095947265625,
          -7.296453475952148,
          14.811511993408203,
          14.218887329101562,
          -2.607480525970459,
          12.659051895141602,
          10.924633026123047,
          -6.180008411407471,
          3.693195343017578,
          17.594392776489258,
          1.1775710582733154,
          -1.2627626657485962,
          0.12735499441623688,
          3.047943592071533,
          16.95635986328125,
          11.790721893310547,
          7.472672462463379,
          25.37238883972168,
          -0.2983265221118927,
          22.169334411621094,
          0.10406707972288132,
          -20.523147583007812,
          -18.839405059814453,
          -17.14494514465332,
          -19.994813919067383,
          -21.40896224975586,
          -25.39983558654785,
          -14.399881362915039,
          -1.2665183544158936,
          0.08518973737955093,
          -17.776268005371094,
          -24.778236389160156,
          13.185121536254883,
          28.325014114379883,
          19.494836807250977,
          16.634634017944336,
          -28.491682052612305,
          2.8646557331085205,
          -17.57750129699707,
          8.09327220916748,
          19.37944793701172,
          2.942200183868408,
          -24.787500381469727,
          -18.572837829589844,
          5.446363925933838,
          -14.315892219543457,
          10.952507972717285,
          -15.234890937805176,
          -14.545100212097168,
          14.761651039123535,
          28.306196212768555,
          -29.655654907226562,
          5.246872425079346,
          20.296253204345703,
          -16.587299346923828,
          -14.696182250976562,
          -0.35229408740997314,
          6.909254550933838,
          -13.380777359008789,
          -12.471139907836914,
          20.979225158691406,
          -11.611675262451172,
          -3.4659852981567383,
          13.59228801727295,
          12.732803344726562,
          -4.776083946228027,
          0.3227573335170746,
          -1.2942394018173218,
          1.5620782375335693,
          3.292219877243042,
          12.155062675476074,
          -0.2883949875831604,
          3.584803819656372,
          27.274398803710938,
          25.380184173583984,
          -25.976356506347656,
          13.824026107788086,
          -6.397860050201416
         ],
         "xaxis": "x",
         "y": [
          5.185359001159668,
          21.01190185546875,
          27.874835968017578,
          15.55295467376709,
          -25.83350944519043,
          -22.2921085357666,
          5.114927291870117,
          20.173521041870117,
          13.772455215454102,
          25.367263793945312,
          19.047279357910156,
          -22.482858657836914,
          -19.61446189880371,
          -22.529680252075195,
          6.648868560791016,
          28.21824836730957,
          0.4805822968482971,
          -19.63604736328125,
          23.52845573425293,
          5.218081474304199,
          14.694458961486816,
          9.591362953186035,
          5.853176116943359,
          6.204492568969727,
          19.88677406311035,
          22.836074829101562,
          18.092618942260742,
          8.154450416564941,
          17.82516098022461,
          -24.637235641479492,
          -23.911725997924805,
          -15.533954620361328,
          -9.458362579345703,
          -23.900890350341797,
          -8.505247116088867,
          -28.213314056396484,
          -16.90215492248535,
          -6.082605361938477,
          -23.115123748779297,
          11.505507469177246,
          -27.67837905883789,
          4.342525482177734,
          2.9194934368133545,
          31.01801109313965,
          23.72869873046875,
          17.215805053710938,
          22.556425094604492,
          26.780214309692383,
          29.298690795898438,
          16.79659080505371,
          0.9334111213684082,
          -37.65678024291992,
          14.511624336242676,
          30.845365524291992,
          3.8244454860687256,
          9.08687686920166,
          23.63295555114746,
          -21.097238540649414,
          -1.4076433181762695,
          29.753938674926758,
          -25.312171936035156,
          9.071160316467285,
          4.338313102722168,
          0.7312604784965515,
          -8.01589584350586,
          -24.062721252441406,
          -33.0386962890625,
          6.859959602355957,
          -16.512596130371094,
          1.8648838996887207,
          5.019981384277344,
          1.6951947212219238,
          20.255399703979492,
          -2.3335063457489014,
          10.582779884338379,
          -17.82367706298828,
          6.797515392303467,
          -0.7648074626922607,
          -34.72570037841797,
          -30.217435836791992,
          -3.9293394088745117,
          -5.7610602378845215,
          25.713115692138672,
          -7.654199600219727,
          -26.684755325317383,
          -12.56482219696045,
          -7.40862512588501,
          -31.91977882385254,
          17.741043090820312,
          5.8620076179504395,
          -31.58545684814453,
          -14.411389350891113,
          6.460572242736816,
          -30.445327758789062,
          -12.10277271270752,
          3.598055601119995,
          8.80504322052002,
          -7.037015438079834,
          -15.28830623626709,
          -32.740657806396484
         ],
         "yaxis": "y"
        },
        {
         "customdata": [
          [
           "House fan",
           "User"
          ],
          [
           "Duki Fan",
           "User"
          ],
          [
           "Emilia Fan",
           "User"
          ],
          [
           "Taylor Swift Fan",
           "User"
          ],
          [
           "The 1975 Fan",
           "User"
          ],
          [
           "Taylor Swift and Emilia Fan",
           "User"
          ],
          [
           "The 1975 and Taylor Swift Fan",
           "User"
          ],
          [
           "Skrillex Fan",
           "User"
          ]
         ],
         "hovertemplate": "color=red<br>x=%{x}<br>y=%{y}<br>name=%{customdata[0]}<br>artist=%{customdata[1]}<extra></extra>",
         "legendgroup": "red",
         "marker": {
          "color": "#EF553B",
          "symbol": "circle"
         },
         "mode": "markers",
         "name": "red",
         "orientation": "v",
         "showlegend": true,
         "type": "scatter",
         "x": [
          -18.5108585357666,
          0.3529674708843231,
          -4.352244853973389,
          4.698257923126221,
          13.112465858459473,
          9.472742080688477,
          8.964407920837402,
          -23.00749969482422
         ],
         "xaxis": "x",
         "y": [
          19.957582473754883,
          -21.682554244995117,
          -24.476242065429688,
          18.189767837524414,
          17.085330963134766,
          12.265159606933594,
          16.970726013183594,
          29.394052505493164
         ],
         "yaxis": "y"
        }
       ],
       "layout": {
        "legend": {
         "title": {
          "text": "color"
         },
         "tracegroupgap": 0
        },
        "margin": {
         "t": 60
        },
        "template": {
         "data": {
          "bar": [
           {
            "error_x": {
             "color": "#2a3f5f"
            },
            "error_y": {
             "color": "#2a3f5f"
            },
            "marker": {
             "line": {
              "color": "#E5ECF6",
              "width": 0.5
             },
             "pattern": {
              "fillmode": "overlay",
              "size": 10,
              "solidity": 0.2
             }
            },
            "type": "bar"
           }
          ],
          "barpolar": [
           {
            "marker": {
             "line": {
              "color": "#E5ECF6",
              "width": 0.5
             },
             "pattern": {
              "fillmode": "overlay",
              "size": 10,
              "solidity": 0.2
             }
            },
            "type": "barpolar"
           }
          ],
          "carpet": [
           {
            "aaxis": {
             "endlinecolor": "#2a3f5f",
             "gridcolor": "white",
             "linecolor": "white",
             "minorgridcolor": "white",
             "startlinecolor": "#2a3f5f"
            },
            "baxis": {
             "endlinecolor": "#2a3f5f",
             "gridcolor": "white",
             "linecolor": "white",
             "minorgridcolor": "white",
             "startlinecolor": "#2a3f5f"
            },
            "type": "carpet"
           }
          ],
          "choropleth": [
           {
            "colorbar": {
             "outlinewidth": 0,
             "ticks": ""
            },
            "type": "choropleth"
           }
          ],
          "contour": [
           {
            "colorbar": {
             "outlinewidth": 0,
             "ticks": ""
            },
            "colorscale": [
             [
              0,
              "#0d0887"
             ],
             [
              0.1111111111111111,
              "#46039f"
             ],
             [
              0.2222222222222222,
              "#7201a8"
             ],
             [
              0.3333333333333333,
              "#9c179e"
             ],
             [
              0.4444444444444444,
              "#bd3786"
             ],
             [
              0.5555555555555556,
              "#d8576b"
             ],
             [
              0.6666666666666666,
              "#ed7953"
             ],
             [
              0.7777777777777778,
              "#fb9f3a"
             ],
             [
              0.8888888888888888,
              "#fdca26"
             ],
             [
              1,
              "#f0f921"
             ]
            ],
            "type": "contour"
           }
          ],
          "contourcarpet": [
           {
            "colorbar": {
             "outlinewidth": 0,
             "ticks": ""
            },
            "type": "contourcarpet"
           }
          ],
          "heatmap": [
           {
            "colorbar": {
             "outlinewidth": 0,
             "ticks": ""
            },
            "colorscale": [
             [
              0,
              "#0d0887"
             ],
             [
              0.1111111111111111,
              "#46039f"
             ],
             [
              0.2222222222222222,
              "#7201a8"
             ],
             [
              0.3333333333333333,
              "#9c179e"
             ],
             [
              0.4444444444444444,
              "#bd3786"
             ],
             [
              0.5555555555555556,
              "#d8576b"
             ],
             [
              0.6666666666666666,
              "#ed7953"
             ],
             [
              0.7777777777777778,
              "#fb9f3a"
             ],
             [
              0.8888888888888888,
              "#fdca26"
             ],
             [
              1,
              "#f0f921"
             ]
            ],
            "type": "heatmap"
           }
          ],
          "heatmapgl": [
           {
            "colorbar": {
             "outlinewidth": 0,
             "ticks": ""
            },
            "colorscale": [
             [
              0,
              "#0d0887"
             ],
             [
              0.1111111111111111,
              "#46039f"
             ],
             [
              0.2222222222222222,
              "#7201a8"
             ],
             [
              0.3333333333333333,
              "#9c179e"
             ],
             [
              0.4444444444444444,
              "#bd3786"
             ],
             [
              0.5555555555555556,
              "#d8576b"
             ],
             [
              0.6666666666666666,
              "#ed7953"
             ],
             [
              0.7777777777777778,
              "#fb9f3a"
             ],
             [
              0.8888888888888888,
              "#fdca26"
             ],
             [
              1,
              "#f0f921"
             ]
            ],
            "type": "heatmapgl"
           }
          ],
          "histogram": [
           {
            "marker": {
             "pattern": {
              "fillmode": "overlay",
              "size": 10,
              "solidity": 0.2
             }
            },
            "type": "histogram"
           }
          ],
          "histogram2d": [
           {
            "colorbar": {
             "outlinewidth": 0,
             "ticks": ""
            },
            "colorscale": [
             [
              0,
              "#0d0887"
             ],
             [
              0.1111111111111111,
              "#46039f"
             ],
             [
              0.2222222222222222,
              "#7201a8"
             ],
             [
              0.3333333333333333,
              "#9c179e"
             ],
             [
              0.4444444444444444,
              "#bd3786"
             ],
             [
              0.5555555555555556,
              "#d8576b"
             ],
             [
              0.6666666666666666,
              "#ed7953"
             ],
             [
              0.7777777777777778,
              "#fb9f3a"
             ],
             [
              0.8888888888888888,
              "#fdca26"
             ],
             [
              1,
              "#f0f921"
             ]
            ],
            "type": "histogram2d"
           }
          ],
          "histogram2dcontour": [
           {
            "colorbar": {
             "outlinewidth": 0,
             "ticks": ""
            },
            "colorscale": [
             [
              0,
              "#0d0887"
             ],
             [
              0.1111111111111111,
              "#46039f"
             ],
             [
              0.2222222222222222,
              "#7201a8"
             ],
             [
              0.3333333333333333,
              "#9c179e"
             ],
             [
              0.4444444444444444,
              "#bd3786"
             ],
             [
              0.5555555555555556,
              "#d8576b"
             ],
             [
              0.6666666666666666,
              "#ed7953"
             ],
             [
              0.7777777777777778,
              "#fb9f3a"
             ],
             [
              0.8888888888888888,
              "#fdca26"
             ],
             [
              1,
              "#f0f921"
             ]
            ],
            "type": "histogram2dcontour"
           }
          ],
          "mesh3d": [
           {
            "colorbar": {
             "outlinewidth": 0,
             "ticks": ""
            },
            "type": "mesh3d"
           }
          ],
          "parcoords": [
           {
            "line": {
             "colorbar": {
              "outlinewidth": 0,
              "ticks": ""
             }
            },
            "type": "parcoords"
           }
          ],
          "pie": [
           {
            "automargin": true,
            "type": "pie"
           }
          ],
          "scatter": [
           {
            "fillpattern": {
             "fillmode": "overlay",
             "size": 10,
             "solidity": 0.2
            },
            "type": "scatter"
           }
          ],
          "scatter3d": [
           {
            "line": {
             "colorbar": {
              "outlinewidth": 0,
              "ticks": ""
             }
            },
            "marker": {
             "colorbar": {
              "outlinewidth": 0,
              "ticks": ""
             }
            },
            "type": "scatter3d"
           }
          ],
          "scattercarpet": [
           {
            "marker": {
             "colorbar": {
              "outlinewidth": 0,
              "ticks": ""
             }
            },
            "type": "scattercarpet"
           }
          ],
          "scattergeo": [
           {
            "marker": {
             "colorbar": {
              "outlinewidth": 0,
              "ticks": ""
             }
            },
            "type": "scattergeo"
           }
          ],
          "scattergl": [
           {
            "marker": {
             "colorbar": {
              "outlinewidth": 0,
              "ticks": ""
             }
            },
            "type": "scattergl"
           }
          ],
          "scattermapbox": [
           {
            "marker": {
             "colorbar": {
              "outlinewidth": 0,
              "ticks": ""
             }
            },
            "type": "scattermapbox"
           }
          ],
          "scatterpolar": [
           {
            "marker": {
             "colorbar": {
              "outlinewidth": 0,
              "ticks": ""
             }
            },
            "type": "scatterpolar"
           }
          ],
          "scatterpolargl": [
           {
            "marker": {
             "colorbar": {
              "outlinewidth": 0,
              "ticks": ""
             }
            },
            "type": "scatterpolargl"
           }
          ],
          "scatterternary": [
           {
            "marker": {
             "colorbar": {
              "outlinewidth": 0,
              "ticks": ""
             }
            },
            "type": "scatterternary"
           }
          ],
          "surface": [
           {
            "colorbar": {
             "outlinewidth": 0,
             "ticks": ""
            },
            "colorscale": [
             [
              0,
              "#0d0887"
             ],
             [
              0.1111111111111111,
              "#46039f"
             ],
             [
              0.2222222222222222,
              "#7201a8"
             ],
             [
              0.3333333333333333,
              "#9c179e"
             ],
             [
              0.4444444444444444,
              "#bd3786"
             ],
             [
              0.5555555555555556,
              "#d8576b"
             ],
             [
              0.6666666666666666,
              "#ed7953"
             ],
             [
              0.7777777777777778,
              "#fb9f3a"
             ],
             [
              0.8888888888888888,
              "#fdca26"
             ],
             [
              1,
              "#f0f921"
             ]
            ],
            "type": "surface"
           }
          ],
          "table": [
           {
            "cells": {
             "fill": {
              "color": "#EBF0F8"
             },
             "line": {
              "color": "white"
             }
            },
            "header": {
             "fill": {
              "color": "#C8D4E3"
             },
             "line": {
              "color": "white"
             }
            },
            "type": "table"
           }
          ]
         },
         "layout": {
          "annotationdefaults": {
           "arrowcolor": "#2a3f5f",
           "arrowhead": 0,
           "arrowwidth": 1
          },
          "autotypenumbers": "strict",
          "coloraxis": {
           "colorbar": {
            "outlinewidth": 0,
            "ticks": ""
           }
          },
          "colorscale": {
           "diverging": [
            [
             0,
             "#8e0152"
            ],
            [
             0.1,
             "#c51b7d"
            ],
            [
             0.2,
             "#de77ae"
            ],
            [
             0.3,
             "#f1b6da"
            ],
            [
             0.4,
             "#fde0ef"
            ],
            [
             0.5,
             "#f7f7f7"
            ],
            [
             0.6,
             "#e6f5d0"
            ],
            [
             0.7,
             "#b8e186"
            ],
            [
             0.8,
             "#7fbc41"
            ],
            [
             0.9,
             "#4d9221"
            ],
            [
             1,
             "#276419"
            ]
           ],
           "sequential": [
            [
             0,
             "#0d0887"
            ],
            [
             0.1111111111111111,
             "#46039f"
            ],
            [
             0.2222222222222222,
             "#7201a8"
            ],
            [
             0.3333333333333333,
             "#9c179e"
            ],
            [
             0.4444444444444444,
             "#bd3786"
            ],
            [
             0.5555555555555556,
             "#d8576b"
            ],
            [
             0.6666666666666666,
             "#ed7953"
            ],
            [
             0.7777777777777778,
             "#fb9f3a"
            ],
            [
             0.8888888888888888,
             "#fdca26"
            ],
            [
             1,
             "#f0f921"
            ]
           ],
           "sequentialminus": [
            [
             0,
             "#0d0887"
            ],
            [
             0.1111111111111111,
             "#46039f"
            ],
            [
             0.2222222222222222,
             "#7201a8"
            ],
            [
             0.3333333333333333,
             "#9c179e"
            ],
            [
             0.4444444444444444,
             "#bd3786"
            ],
            [
             0.5555555555555556,
             "#d8576b"
            ],
            [
             0.6666666666666666,
             "#ed7953"
            ],
            [
             0.7777777777777778,
             "#fb9f3a"
            ],
            [
             0.8888888888888888,
             "#fdca26"
            ],
            [
             1,
             "#f0f921"
            ]
           ]
          },
          "colorway": [
           "#636efa",
           "#EF553B",
           "#00cc96",
           "#ab63fa",
           "#FFA15A",
           "#19d3f3",
           "#FF6692",
           "#B6E880",
           "#FF97FF",
           "#FECB52"
          ],
          "font": {
           "color": "#2a3f5f"
          },
          "geo": {
           "bgcolor": "white",
           "lakecolor": "white",
           "landcolor": "#E5ECF6",
           "showlakes": true,
           "showland": true,
           "subunitcolor": "white"
          },
          "hoverlabel": {
           "align": "left"
          },
          "hovermode": "closest",
          "mapbox": {
           "style": "light"
          },
          "paper_bgcolor": "white",
          "plot_bgcolor": "#E5ECF6",
          "polar": {
           "angularaxis": {
            "gridcolor": "white",
            "linecolor": "white",
            "ticks": ""
           },
           "bgcolor": "#E5ECF6",
           "radialaxis": {
            "gridcolor": "white",
            "linecolor": "white",
            "ticks": ""
           }
          },
          "scene": {
           "xaxis": {
            "backgroundcolor": "#E5ECF6",
            "gridcolor": "white",
            "gridwidth": 2,
            "linecolor": "white",
            "showbackground": true,
            "ticks": "",
            "zerolinecolor": "white"
           },
           "yaxis": {
            "backgroundcolor": "#E5ECF6",
            "gridcolor": "white",
            "gridwidth": 2,
            "linecolor": "white",
            "showbackground": true,
            "ticks": "",
            "zerolinecolor": "white"
           },
           "zaxis": {
            "backgroundcolor": "#E5ECF6",
            "gridcolor": "white",
            "gridwidth": 2,
            "linecolor": "white",
            "showbackground": true,
            "ticks": "",
            "zerolinecolor": "white"
           }
          },
          "shapedefaults": {
           "line": {
            "color": "#2a3f5f"
           }
          },
          "ternary": {
           "aaxis": {
            "gridcolor": "white",
            "linecolor": "white",
            "ticks": ""
           },
           "baxis": {
            "gridcolor": "white",
            "linecolor": "white",
            "ticks": ""
           },
           "bgcolor": "#E5ECF6",
           "caxis": {
            "gridcolor": "white",
            "linecolor": "white",
            "ticks": ""
           }
          },
          "title": {
           "x": 0.05
          },
          "xaxis": {
           "automargin": true,
           "gridcolor": "white",
           "linecolor": "white",
           "ticks": "",
           "title": {
            "standoff": 15
           },
           "zerolinecolor": "white",
           "zerolinewidth": 2
          },
          "yaxis": {
           "automargin": true,
           "gridcolor": "white",
           "linecolor": "white",
           "ticks": "",
           "title": {
            "standoff": 15
           },
           "zerolinecolor": "white",
           "zerolinewidth": 2
          }
         }
        },
        "title": {
         "text": "T-SNE projection of the Top Tracks"
        },
        "xaxis": {
         "anchor": "y",
         "domain": [
          0,
          1
         ],
         "title": {
          "text": "x"
         }
        },
        "yaxis": {
         "anchor": "x",
         "domain": [
          0,
          1
         ],
         "title": {
          "text": "y"
         }
        }
       }
      }
     },
     "metadata": {},
     "output_type": "display_data"
    }
   ],
   "source": [
    "X = [s.getMetadataVector() for s in allTracks]\n",
    "usersMetaVectors = [u.getUserVectorFromListened() for u in testUsers]\n",
    "X.extend(usersMetaVectors)\n",
    "X = np.array(X)\n",
    "\n",
    "tsne_pipeline = Pipeline([('scaler', StandardScaler(with_mean=False)),\n",
    "                          ('tsne', TSNE(n_components=2, random_state=0, perplexity=7, init='random'))])\n",
    "track_embedding = tsne_pipeline.fit_transform(X)\n",
    "\n",
    "projection = pd.DataFrame(columns=['x', 'y'], data=track_embedding\n",
    "                          )\n",
    "labelNames = [s.name for s in allTracks]\n",
    "labelNames.extend([u.spotify_id for u in testUsers])\n",
    "projection[\"name\"] = labelNames\n",
    "\n",
    "labelArtist = [s.artists[0] for s in allTracks]\n",
    "labelArtist.extend([\"User\" for u in testUsers])\n",
    "projection[\"artist\"] = labelArtist\n",
    "\n",
    "labelColor = [\"blue\" for s in allTracks]\n",
    "labelColor.extend([\"red\" for u in testUsers])\n",
    "projection[\"color\"] = labelColor\n",
    "\n",
    "fig = px.scatter(projection, x='x', y='y', color='color', hover_data=['x', 'y', 'name', 'artist'])\n",
    "fig.update_layout(title='T-SNE Subespacio de Tracks')\n",
    "fig.show()"
   ]
  },
  {
   "cell_type": "markdown",
   "metadata": {},
   "source": [
    "### Building clusters"
   ]
  },
  {
   "cell_type": "code",
   "execution_count": 9,
   "metadata": {},
   "outputs": [
    {
     "name": "stdout",
     "output_type": "stream",
     "text": [
      "Cluster 2 : ['House fan', 'Duki Fan', 'The 1975 and Taylor Swift Fan']\n",
      "Cluster 0 : ['Emilia Fan', 'The 1975 Fan']\n",
      "Cluster 1 : ['Taylor Swift Fan', 'Taylor Swift and Emilia Fan', 'Skrillex Fan']\n"
     ]
    }
   ],
   "source": [
    "# Cluster users with TSNE processed vectors\n",
    "kmeans = KMeans(n_clusters=3, random_state=0).fit(tsne_pipeline.fit_transform(usersMetaVectors))\n",
    "clusters = dict()\n",
    "for i, label in enumerate(kmeans.labels_):\n",
    "    if label not in clusters:\n",
    "        clusters[label] = []\n",
    "    clusters[label].append(testUsers[i].spotify_id)\n",
    "\n",
    "for cluster in clusters:\n",
    "    print(\"Cluster\", cluster, \":\", clusters[cluster])"
   ]
  },
  {
   "cell_type": "code",
   "execution_count": 10,
   "metadata": {},
   "outputs": [
    {
     "name": "stdout",
     "output_type": "stream",
     "text": [
      "Cluster 2 : ['House fan', 'Taylor Swift Fan', 'The 1975 and Taylor Swift Fan']\n",
      "Cluster 1 : ['Duki Fan', 'Emilia Fan']\n",
      "Cluster 0 : ['The 1975 Fan', 'Taylor Swift and Emilia Fan', 'Skrillex Fan']\n"
     ]
    }
   ],
   "source": [
    "# Cluster users with raw vectors\n",
    "kmeans = KMeans(n_clusters=3, random_state=0).fit(usersMetaVectors)\n",
    "clusters = dict()\n",
    "for i, label in enumerate(kmeans.labels_):\n",
    "    if label not in clusters:\n",
    "        clusters[label] = []\n",
    "    clusters[label].append(testUsers[i].spotify_id)\n",
    "\n",
    "for cluster in clusters:\n",
    "    print(\"Cluster\", cluster, \":\", clusters[cluster])"
   ]
  },
  {
   "cell_type": "code",
   "execution_count": 11,
   "metadata": {},
   "outputs": [
    {
     "name": "stdout",
     "output_type": "stream",
     "text": [
      "Cluster 0 contains 40 tracks\n",
      "['...Ready For It?', \"All Too Well (10 Minute Version) (Taylor's Version) (From The Vault)\", \"Now That We Don't Talk (Taylor's Version) (From The Vault)\", 'Getaway Car', \"Is It Over Now? (Taylor's Version) (From The Vault)\", 'CSIpher (audio latino)', 'Remember Me', '01 dE ENEro', \"She Don't Give a Fo\", 'Heartbroken (feat. Jessie Murph & Polo G)', \"It's Not Living (If It's Not With You)\", \"I'm In Love With You\", 'If You’re Too Shy (Let Me Know)', 'I Always Wanna Die (Sometimes)', 'Oh Caroline', 'como si no importara', 'como si no importara', 'Facts.mp3', 'Heartbroken - Jessie Version', 'Leave Me Like This', 'Rumble', 'Rumble', 'ANDRÓMEDA', 'FRESCO', 'CANGURO', 'MELÓN VINO', 'CONTANDO OVEJAS', 'GUSTY DJ I Alejo Isakk Session en el Barrio #5', 'PURPURA', 'CANGURO', 'TERRAZA', 'MIRÁ MAMÁ', 'Session en el Barrio #1', 'FAKE LOVE', 'Session en el Barrio #3', 'CÓMO CHILLA ELLA', '24/7 6.5', 'Euphoria', 'SONIDO DEL AÑO', 'El Amanecer']\n",
      "\n",
      "Cluster 1 contains 20 tracks\n",
      "['august', 'Karma', 'Lover', 'GIVENCHY', \"Say Don't Go (Taylor's Version) (From The Vault)\", 'The 1975', 'Robbers', 'Jagger.mp3', 'Jagger.mp3', 'Stay High', 'On My Mind', 'On My Mind', 'MORFEO', 'Gusty DJ | Ecko - Session en el Barrio #7', 'Gusty Dj | Jordan23 - Session en el Barrio #9', 'N***a Who Dat?', 'Mega 1: Bad Bunny', 'TOMA 4 set rkt', 'Serendipity - Full Length Edition', 'CUÁNTO VALE HACER EL AMOR?']\n",
      "\n",
      "Cluster 2 contains 19 tracks\n",
      "['Si Me Sobrara el Tiempo', 'Antes de Perderte', 'La_Original.mp3', 'GTA.mp3', 'IConic.mp3', 'Welcome to the Party (with French Montana & Lil Pump, feat. Zhavia Ward) - from Deadpool 2', 'Fine Day Anthem', 'Be Right There', 'Way Back', 'Summit (feat. Ellie Goulding)', 'CULPA', 'Perreo Adictivo #1 - Remix', 'Dynamite', 'NO DA MÁS', 'dimple', 'Just One Day', 'HOME', 'ASESINO', 'NO DA MÁS']\n",
      "\n",
      "Cluster 3 contains 12 tracks\n",
      "['Malbec', 'Happiness', 'Girls', 'No_Se_Ve.mp3', 'Stay High - Zerb Remix', 'Wish', 'Don’t Go (with Justin Bieber & Don Toliver)', 'ALMA DINAMITA', '¿Y pa la Wacha Loca? (con Salastkbron) - Remix', 'Boy With Luv (feat. Halsey)', 'Permission to Dance', 'A POR TODO']\n",
      "\n",
      "Cluster 4 contains 8 tracks\n",
      "['Hello Cotto', 'Rockstar', 'Purple Lamborghini (with Rick Ross)', 'OKUPA', 'Would You Ever', 'DESCARTABLE', 'CAMBIANDO LA PIEL', 'el numero uno se fue con 2 rkt']\n",
      "\n",
      "Cluster 5 contains 1 tracks\n",
      "['Box Fan For Sleep']\n",
      "\n"
     ]
    }
   ],
   "source": [
    "s_kmeans = KMeans(n_clusters=6, random_state=0).fit(X)\n",
    "clusteredTracks = dict()\n",
    "for i, track in enumerate(allTracks):\n",
    "    if s_kmeans.labels_[i] not in clusteredTracks:\n",
    "        clusteredTracks[s_kmeans.labels_[i]] = []\n",
    "    clusteredTracks[s_kmeans.labels_[i]].append(track.name)\n",
    "\n",
    "for i, cluster in enumerate(clusteredTracks):\n",
    "    print(\"Cluster\", i, \"contains\", len(clusteredTracks[cluster]), \"tracks\")\n",
    "    print(clusteredTracks[cluster])\n",
    "    print()"
   ]
  },
  {
   "cell_type": "code",
   "execution_count": 8,
   "metadata": {},
   "outputs": [
    {
     "name": "stdout",
     "output_type": "stream",
     "text": [
      "Based on --> Taylor Swift and Emilia Fan\n",
      "--> The 1975 and Taylor Swift Fan ['The 1975', 'Taylor Swift']\n",
      "--> Taylor Swift Fan ['Taylor Swift']\n",
      "--> Emilia Fan ['Emilia', 'TINI']\n",
      "--> Duki Fan ['SPONSOR DIOS', 'Lisan Beat', 'ONIRIA', 'YSY A', 'Duki']\n",
      "--> The 1975 Fan ['The 1975']\n"
     ]
    }
   ],
   "source": [
    "# REAL IMPLEMENTATION\n",
    "\n",
    "def getSimilarUsersByMeta(es, user:User):\n",
    "    query = {\n",
    "        \"size\": 5,\n",
    "        \"query\": {\n",
    "            \"function_score\": {\n",
    "                \"query\": {\n",
    "                    \"bool\": {\n",
    "                        \"must\": {\n",
    "                            \"match_all\": {},\n",
    "                        },\n",
    "                        \"must_not\": [\n",
    "                            {\n",
    "                                \"term\": {\n",
    "                                    \"spotify_user_id\": user.spotify_id\n",
    "                                }\n",
    "                            }\n",
    "                        ],\n",
    "                        \"should\": [\n",
    "                            {\n",
    "                                \"terms\": {\n",
    "                                    \"artists\": list(user.artists),\n",
    "                                    \"boost\": 500\n",
    "                                }\n",
    "                            }\n",
    "                        ]\n",
    "                    }\n",
    "                },\n",
    "                \"functions\": [\n",
    "                    {\n",
    "                        \"script_score\": {\n",
    "                            \"script\": {\n",
    "                                \"source\": \"(cosineSimilarity(params.queryVector, 'metaVector') + 1.0)*params.mBoost\",\n",
    "                                \"params\": {\n",
    "                                    \"queryVector\": user.getUserVectorFromListened(),\n",
    "                                    \"mBoost\": 1\n",
    "                                }\n",
    "                            }\n",
    "                        }\n",
    "                    }\n",
    "                ]\n",
    "            }\n",
    "        }\n",
    "    }\n",
    "    resp = es.client.search(index=\"users-metadata\", body=query)\n",
    "    return resp\n",
    "\n",
    "def testSimilarUsers(u):\n",
    "    print(\"Based on -->\", u.spotify_id)\n",
    "    res = getSimilarUsersByMeta(es, u)['hits']['hits']\n",
    "    for r in res:\n",
    "        print(\"-->\", r['_source']['spotify_user_id'], r['_source']['artists'])\n",
    "\n",
    "testSimilarUsers(usr5)"
   ]
  },
  {
   "cell_type": "markdown",
   "metadata": {},
   "source": []
  }
 ],
 "metadata": {
  "kernelspec": {
   "display_name": "venv",
   "language": "python",
   "name": "python3"
  },
  "language_info": {
   "codemirror_mode": {
    "name": "ipython",
    "version": 3
   },
   "file_extension": ".py",
   "mimetype": "text/x-python",
   "name": "python",
   "nbconvert_exporter": "python",
   "pygments_lexer": "ipython3",
   "version": "3.10.11"
  }
 },
 "nbformat": 4,
 "nbformat_minor": 2
}
